{
  "nbformat": 4,
  "nbformat_minor": 0,
  "metadata": {
    "colab": {
      "provenance": []
    },
    "kernelspec": {
      "name": "python3",
      "display_name": "Python 3"
    },
    "language_info": {
      "name": "python"
    }
  },
  "cells": [
    {
      "cell_type": "code",
      "source": [
        "import numpy as np\n",
        "import pandas as pd\n",
        "from sklearn.decomposition import TruncatedSVD\n",
        "data = {\n",
        "    'user_id': [1, 1, 1, 2, 2, 2, 3, 3, 3, 4, 4, 4],\n",
        "    'movie': ['Avengers', 'Batman', 'Superman', 'Avengers', 'Batman', 'Spiderman',\n",
        "              'Superman', 'Batman', 'Spiderman', 'Avengers', 'Superman', 'Spiderman'],\n",
        "    'rating': [5, 4, 4, 5, 5, 3, 4, 5, 2, 3, 4, 5]\n",
        "}\n",
        "\n",
        "df = pd.DataFrame(data)\n",
        "pivot_table = df.pivot_table(index='user_id', columns='movie', values='rating').fillna(0)\n",
        "svd = TruncatedSVD(n_components=2)\n",
        "matrix = svd.fit_transform(pivot_table)\n",
        "predicted_ratings = np.dot(matrix, svd.components_)\n",
        "predicted_ratings_df = pd.DataFrame(predicted_ratings, index=pivot_table.index, columns=pivot_table.columns)\n",
        "\n",
        "def recommend_movies(user_id, num_recommendations=3):\n",
        "    if user_id not in predicted_ratings_df.index:\n",
        "        print(\"User not found in dataset!\")\n",
        "        return []\n",
        "\n",
        "    sorted_movies = predicted_ratings_df.loc[user_id].sort_values(ascending=False)\n",
        "    return sorted_movies.index[:num_recommendations].tolist()\n",
        "\n",
        "recommended_movies = recommend_movies(3, num_recommendations=3)\n",
        "print(\"Recommended movies for user 3:\", recommended_movies)"
      ],
      "metadata": {
        "colab": {
          "base_uri": "https://localhost:8080/"
        },
        "id": "NlkAczsq24NF",
        "outputId": "95649e19-5b76-4623-ef4e-7ea3568fe52b"
      },
      "execution_count": 2,
      "outputs": [
        {
          "output_type": "stream",
          "name": "stdout",
          "text": [
            "Recommended movies for user 3: ['Batman', 'Avengers', 'Superman']\n"
          ]
        }
      ]
    }
  ]
}